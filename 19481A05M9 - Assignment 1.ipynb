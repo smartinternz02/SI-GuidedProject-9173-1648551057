{
 "cells": [
  {
   "cell_type": "markdown",
   "id": "b16ce476",
   "metadata": {},
   "source": [
    "# What is 7 to the power of 4?"
   ]
  },
  {
   "cell_type": "code",
   "execution_count": 21,
   "id": "e6afc666",
   "metadata": {},
   "outputs": [
    {
     "name": "stdout",
     "output_type": "stream",
     "text": [
      "2401\n"
     ]
    }
   ],
   "source": [
    "print(7**4)"
   ]
  },
  {
   "cell_type": "markdown",
   "id": "528d24f1",
   "metadata": {},
   "source": [
    "# Split This String"
   ]
  },
  {
   "cell_type": "code",
   "execution_count": 22,
   "id": "af8b3529",
   "metadata": {},
   "outputs": [
    {
     "name": "stdout",
     "output_type": "stream",
     "text": [
      "['Hi', 'there', 'dad!']\n"
     ]
    }
   ],
   "source": [
    "s=\"Hi there Sam!\"\n",
    "s=s.split()\n",
    "s[2]=\"dad!\"\n",
    "print(s)"
   ]
  },
  {
   "cell_type": "markdown",
   "id": "0b1b5823",
   "metadata": {},
   "source": [
    "# Use .format"
   ]
  },
  {
   "cell_type": "code",
   "execution_count": 23,
   "id": "0b2d15d8",
   "metadata": {},
   "outputs": [
    {
     "name": "stdout",
     "output_type": "stream",
     "text": [
      "The diameter of Earth is 12742 kilometers\n"
     ]
    }
   ],
   "source": [
    "planet=\"Earth\"\n",
    "diameter=12742\n",
    "print(\"The diameter of {} is {} kilometers\".format(planet,diameter))"
   ]
  },
  {
   "cell_type": "markdown",
   "id": "141cfaff",
   "metadata": {},
   "source": [
    "# Grab the word \"hello\""
   ]
  },
  {
   "cell_type": "code",
   "execution_count": 24,
   "id": "76fd0963",
   "metadata": {},
   "outputs": [
    {
     "name": "stdout",
     "output_type": "stream",
     "text": [
      "hello\n"
     ]
    }
   ],
   "source": [
    "lst=[1,2,[3,4],[5,[100,200,[\"hello\"]],23,11],1,7]\n",
    "print(lst[3][1][2][0])"
   ]
  },
  {
   "cell_type": "markdown",
   "id": "39febe7b",
   "metadata": {},
   "source": [
    "# Grab the word \"hello\" from the dictionary"
   ]
  },
  {
   "cell_type": "code",
   "execution_count": 25,
   "id": "ca1a4e66",
   "metadata": {},
   "outputs": [
    {
     "name": "stdout",
     "output_type": "stream",
     "text": [
      "hello\n"
     ]
    }
   ],
   "source": [
    "d={'k1':[1,2,3,{'tricky':['oh', 'man','inception',{'target':[1,2,3,'hello']}]}]}\n",
    "print(d['k1'][3]['tricky'][3]['target'][3])"
   ]
  },
  {
   "cell_type": "markdown",
   "id": "ce5f8871",
   "metadata": {},
   "source": [
    "# Difference between a Tuple and List"
   ]
  },
  {
   "cell_type": "code",
   "execution_count": 26,
   "id": "3eed1c36",
   "metadata": {},
   "outputs": [
    {
     "name": "stdout",
     "output_type": "stream",
     "text": [
      "Tuples are immutable and values can't be alttered within it and Lists are mutable\n"
     ]
    }
   ],
   "source": [
    "print(\"Tuples are immutable and values can't be alttered within it and Lists are mutable\")"
   ]
  },
  {
   "cell_type": "markdown",
   "id": "07695830",
   "metadata": {},
   "source": [
    "# Function for domain names"
   ]
  },
  {
   "cell_type": "code",
   "execution_count": 27,
   "id": "d364675d",
   "metadata": {},
   "outputs": [
    {
     "name": "stdout",
     "output_type": "stream",
     "text": [
      "domain.com\n"
     ]
    }
   ],
   "source": [
    "def domain(a):\n",
    "    return a.split(\"@\")[-1]\n",
    "print(domain(\"user@domain.com\"))"
   ]
  },
  {
   "cell_type": "markdown",
   "id": "e87a9795",
   "metadata": {},
   "source": [
    "# Function for dog"
   ]
  },
  {
   "cell_type": "code",
   "execution_count": 28,
   "id": "793ff464",
   "metadata": {},
   "outputs": [
    {
     "name": "stdout",
     "output_type": "stream",
     "text": [
      "True\n"
     ]
    }
   ],
   "source": [
    "def fun(a):\n",
    "    return True if \"dog\" in a else False\n",
    "print(fun(\"dog\"))"
   ]
  },
  {
   "cell_type": "markdown",
   "id": "f9f0f0f6",
   "metadata": {},
   "source": [
    "# Function for dog count"
   ]
  },
  {
   "cell_type": "code",
   "execution_count": 29,
   "id": "d3155f52",
   "metadata": {},
   "outputs": [
    {
     "name": "stdout",
     "output_type": "stream",
     "text": [
      "2\n"
     ]
    }
   ],
   "source": [
    "def fun(a):\n",
    "    return a.count(\"dog\")\n",
    "print(fun(\"dotdogdotdog\"))"
   ]
  },
  {
   "cell_type": "markdown",
   "id": "b56058a0",
   "metadata": {},
   "source": [
    "# Function for ticket"
   ]
  },
  {
   "cell_type": "code",
   "execution_count": 30,
   "id": "8c2b8e13",
   "metadata": {},
   "outputs": [],
   "source": [
    "def ticket(speed,bod):\n",
    "    if bod:\n",
    "        speed-=5\n",
    "    if speed>80:\n",
    "        return \"Big Ticket\"\n",
    "    elif speed>60:\n",
    "        return \"Small Ticket\"\n",
    "    else:\n",
    "        return \"No Ticket\""
   ]
  },
  {
   "cell_type": "code",
   "execution_count": 31,
   "id": "896c4037",
   "metadata": {},
   "outputs": [
    {
     "name": "stdout",
     "output_type": "stream",
     "text": [
      "Small Ticket\n"
     ]
    }
   ],
   "source": [
    "print(ticket(70,True))"
   ]
  },
  {
   "cell_type": "code",
   "execution_count": 32,
   "id": "d1dbb90e",
   "metadata": {},
   "outputs": [
    {
     "name": "stdout",
     "output_type": "stream",
     "text": [
      "Big Ticket\n"
     ]
    }
   ],
   "source": [
    "print(ticket(90,False))"
   ]
  },
  {
   "cell_type": "code",
   "execution_count": null,
   "id": "f0cbac0c",
   "metadata": {},
   "outputs": [],
   "source": []
  }
 ],
 "metadata": {
  "kernelspec": {
   "display_name": "Python 3 (ipykernel)",
   "language": "python",
   "name": "python3"
  },
  "language_info": {
   "codemirror_mode": {
    "name": "ipython",
    "version": 3
   },
   "file_extension": ".py",
   "mimetype": "text/x-python",
   "name": "python",
   "nbconvert_exporter": "python",
   "pygments_lexer": "ipython3",
   "version": "3.9.7"
  }
 },
 "nbformat": 4,
 "nbformat_minor": 5
}
